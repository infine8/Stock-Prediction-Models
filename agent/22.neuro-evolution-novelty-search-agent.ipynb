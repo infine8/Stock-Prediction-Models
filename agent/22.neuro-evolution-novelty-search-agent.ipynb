{
 "cells": [
  {
   "cell_type": "code",
   "execution_count": 8,
   "metadata": {
    "pycharm": {
     "is_executing": false
    }
   },
   "outputs": [],
   "source": [
    "import numpy as np\n",
    "import pandas as pd\n",
    "import tensorflow as tf\n",
    "import matplotlib.pyplot as plt\n",
    "from sklearn.neighbors import NearestNeighbors\n",
    "import seaborn as sns\n",
    "sns.set()"
   ]
  },
  {
   "cell_type": "code",
   "execution_count": 9,
   "metadata": {
    "pycharm": {
     "is_executing": false
    }
   },
   "outputs": [
    {
     "data": {
      "text/plain": "         Date        Open        High         Low       Close   Adj Close  \\\n0  2016-11-02  778.200012  781.650024  763.450012  768.700012  768.700012   \n1  2016-11-03  767.250000  769.950012  759.030029  762.130005  762.130005   \n2  2016-11-04  750.659973  770.359985  750.560974  762.020020  762.020020   \n3  2016-11-07  774.500000  785.190002  772.549988  782.520020  782.520020   \n4  2016-11-08  783.400024  795.632996  780.190002  790.510010  790.510010   \n\n    Volume  \n0  1872400  \n1  1943200  \n2  2134800  \n3  1585100  \n4  1350800  ",
      "text/html": "<div>\n<style scoped>\n    .dataframe tbody tr th:only-of-type {\n        vertical-align: middle;\n    }\n\n    .dataframe tbody tr th {\n        vertical-align: top;\n    }\n\n    .dataframe thead th {\n        text-align: right;\n    }\n</style>\n<table border=\"1\" class=\"dataframe\">\n  <thead>\n    <tr style=\"text-align: right;\">\n      <th></th>\n      <th>Date</th>\n      <th>Open</th>\n      <th>High</th>\n      <th>Low</th>\n      <th>Close</th>\n      <th>Adj Close</th>\n      <th>Volume</th>\n    </tr>\n  </thead>\n  <tbody>\n    <tr>\n      <th>0</th>\n      <td>2016-11-02</td>\n      <td>778.200012</td>\n      <td>781.650024</td>\n      <td>763.450012</td>\n      <td>768.700012</td>\n      <td>768.700012</td>\n      <td>1872400</td>\n    </tr>\n    <tr>\n      <th>1</th>\n      <td>2016-11-03</td>\n      <td>767.250000</td>\n      <td>769.950012</td>\n      <td>759.030029</td>\n      <td>762.130005</td>\n      <td>762.130005</td>\n      <td>1943200</td>\n    </tr>\n    <tr>\n      <th>2</th>\n      <td>2016-11-04</td>\n      <td>750.659973</td>\n      <td>770.359985</td>\n      <td>750.560974</td>\n      <td>762.020020</td>\n      <td>762.020020</td>\n      <td>2134800</td>\n    </tr>\n    <tr>\n      <th>3</th>\n      <td>2016-11-07</td>\n      <td>774.500000</td>\n      <td>785.190002</td>\n      <td>772.549988</td>\n      <td>782.520020</td>\n      <td>782.520020</td>\n      <td>1585100</td>\n    </tr>\n    <tr>\n      <th>4</th>\n      <td>2016-11-08</td>\n      <td>783.400024</td>\n      <td>795.632996</td>\n      <td>780.190002</td>\n      <td>790.510010</td>\n      <td>790.510010</td>\n      <td>1350800</td>\n    </tr>\n  </tbody>\n</table>\n</div>"
     },
     "metadata": {},
     "output_type": "execute_result",
     "execution_count": 9
    }
   ],
   "source": [
    "df = pd.read_csv('../dataset/GOOG-year.csv')\n",
    "df.head()"
   ]
  },
  {
   "cell_type": "code",
   "execution_count": 10,
   "metadata": {
    "pycharm": {
     "is_executing": false
    }
   },
   "outputs": [],
   "source": [
    "close = df.Close.values.tolist()\n",
    "initial_money = 10000\n",
    "window_size = 30\n",
    "skip = 1\n",
    "\n",
    "novelty_search_threshold = 6\n",
    "novelty_log_maxlen = 1000\n",
    "backlog_maxsize = 500\n",
    "novelty_log_add_amount = 3"
   ]
  },
  {
   "cell_type": "code",
   "execution_count": 11,
   "metadata": {
    "pycharm": {
     "is_executing": false
    }
   },
   "outputs": [],
   "source": [
    "class neuralnetwork:\n",
    "    def __init__(self, id_, hidden_size = 128):\n",
    "        self.W1 = np.random.randn(window_size, hidden_size) / np.sqrt(window_size)\n",
    "        self.W2 = np.random.randn(hidden_size, 3) / np.sqrt(hidden_size)\n",
    "        self.fitness = 0\n",
    "        self.last_features = None\n",
    "        self.id = id_\n",
    "\n",
    "def relu(X):\n",
    "    return np.maximum(X, 0)\n",
    "    \n",
    "def softmax(X):\n",
    "    e_x = np.exp(X - np.max(X, axis=-1, keepdims=True))\n",
    "    return e_x / np.sum(e_x, axis=-1, keepdims=True)\n",
    "\n",
    "def feed_forward(X, nets):\n",
    "    a1 = np.dot(X, nets.W1)\n",
    "    z1 = relu(a1)\n",
    "    a2 = np.dot(z1, nets.W2)\n",
    "    return softmax(a2)"
   ]
  },
  {
   "cell_type": "code",
   "execution_count": 12,
   "metadata": {
    "pycharm": {
     "is_executing": false
    }
   },
   "outputs": [],
   "source": [
    "class NeuroEvolution:\n",
    "    def __init__(self, population_size, mutation_rate, model_generator,\n",
    "                state_size, window_size, trend, skip, initial_money):\n",
    "        self.population_size = population_size\n",
    "        self.mutation_rate = mutation_rate\n",
    "        self.model_generator = model_generator\n",
    "        self.state_size = state_size\n",
    "        self.window_size = window_size\n",
    "        self.half_window = window_size // 2\n",
    "        self.trend = trend\n",
    "        self.skip = skip\n",
    "        self.initial_money = initial_money\n",
    "        self.generation_backlog = []\n",
    "        self.novel_backlog = []\n",
    "        self.novel_pop = []\n",
    "        \n",
    "    def _initialize_population(self):\n",
    "        self.population = []\n",
    "        for i in range(self.population_size):\n",
    "            self.population.append(self.model_generator(i))\n",
    "    \n",
    "    def _memorize(self, q, i, limit):\n",
    "        q.append(i)\n",
    "        if len(q) > limit:\n",
    "            q.pop()\n",
    "    \n",
    "    def mutate(self, individual, scale=1.0):\n",
    "        mutation_mask = np.random.binomial(1, p=self.mutation_rate, size=individual.W1.shape)\n",
    "        individual.W1 += np.random.normal(loc=0, scale=scale, size=individual.W1.shape) * mutation_mask\n",
    "        mutation_mask = np.random.binomial(1, p=self.mutation_rate, size=individual.W2.shape)\n",
    "        individual.W2 += np.random.normal(loc=0, scale=scale, size=individual.W2.shape) * mutation_mask\n",
    "        return individual\n",
    "    \n",
    "    def inherit_weights(self, parent, child):\n",
    "        child.W1 = parent.W1.copy()\n",
    "        child.W2 = parent.W2.copy()\n",
    "        return child\n",
    "    \n",
    "    def crossover(self, parent1, parent2):\n",
    "        child1 = self.model_generator((parent1.id+1)*10)\n",
    "        child1 = self.inherit_weights(parent1, child1)\n",
    "        child2 = self.model_generator((parent2.id+1)*10)\n",
    "        child2 = self.inherit_weights(parent2, child2)\n",
    "        # first W\n",
    "        n_neurons = child1.W1.shape[1]\n",
    "        cutoff = np.random.randint(0, n_neurons)\n",
    "        child1.W1[:, cutoff:] = parent2.W1[:, cutoff:].copy()\n",
    "        child2.W1[:, cutoff:] = parent1.W1[:, cutoff:].copy()\n",
    "        # second W\n",
    "        n_neurons = child1.W2.shape[1]\n",
    "        cutoff = np.random.randint(0, n_neurons)\n",
    "        child1.W2[:, cutoff:] = parent2.W2[:, cutoff:].copy()\n",
    "        child2.W2[:, cutoff:] = parent1.W2[:, cutoff:].copy()\n",
    "        return child1, child2\n",
    "    \n",
    "    def get_state(self, t):\n",
    "        window_size = self.window_size + 1\n",
    "        d = t - window_size + 1\n",
    "        block = self.trend[d : t + 1] if d >= 0 else -d * [self.trend[0]] + self.trend[0 : t + 1]\n",
    "        res = []\n",
    "        for i in range(window_size - 1):\n",
    "            res.append(block[i + 1] - block[i])\n",
    "        return np.array([res])\n",
    "    \n",
    "    def act(self, p, state):\n",
    "        logits = feed_forward(state, p)\n",
    "        return np.argmax(logits, 1)[0]\n",
    "    \n",
    "    def buy(self, individual):\n",
    "        initial_money = self.initial_money\n",
    "        starting_money = initial_money\n",
    "        state = self.get_state(0)\n",
    "        inventory = []\n",
    "        states_sell = []\n",
    "        states_buy = []\n",
    "        \n",
    "        for t in range(0, len(self.trend) - 1, self.skip):\n",
    "            action = self.act(individual, state)\n",
    "            next_state = self.get_state(t + 1)\n",
    "            \n",
    "            if action == 1 and starting_money >= self.trend[t]:\n",
    "                inventory.append(self.trend[t])\n",
    "                initial_money -= self.trend[t]\n",
    "                states_buy.append(t)\n",
    "                print('day %d: buy 1 unit at price %f, total balance %f'% (t, self.trend[t], initial_money))\n",
    "            \n",
    "            elif action == 2 and len(inventory):\n",
    "                bought_price = inventory.pop(0)\n",
    "                initial_money += self.trend[t]\n",
    "                states_sell.append(t)\n",
    "                try:\n",
    "                    invest = ((self.trend[t] - bought_price) / bought_price) * 100\n",
    "                except:\n",
    "                    invest = 0\n",
    "                print(\n",
    "                    'day %d, sell 1 unit at price %f, investment %f %%, total balance %f,'\n",
    "                    % (t, self.trend[t], invest, initial_money)\n",
    "                )\n",
    "            state = next_state\n",
    "        \n",
    "        invest = ((initial_money - starting_money) / starting_money) * 100\n",
    "        total_gains = initial_money - starting_money\n",
    "        return states_buy, states_sell, total_gains, invest\n",
    "    \n",
    "    def calculate_fitness(self):\n",
    "        for i in range(self.population_size):\n",
    "            initial_money = self.initial_money\n",
    "            starting_money = initial_money\n",
    "            state = self.get_state(0)\n",
    "            inventory = []\n",
    "            \n",
    "            for t in range(0, len(self.trend) - 1, self.skip):\n",
    "                action = self.act(self.population[i], state)\n",
    "                next_state = self.get_state(t + 1)\n",
    "            \n",
    "                if action == 1 and starting_money >= self.trend[t]:\n",
    "                    inventory.append(self.trend[t])\n",
    "                    starting_money -= self.trend[t]\n",
    "\n",
    "                elif action == 2 and len(inventory):\n",
    "                    bought_price = inventory.pop(0)\n",
    "                    starting_money += self.trend[t]\n",
    "\n",
    "                state = next_state\n",
    "            invest = ((starting_money - initial_money) / initial_money) * 100\n",
    "            self.population[i].fitness = invest\n",
    "            self.population[i].last_features = self.population[i].W2.flatten()\n",
    "    \n",
    "    def evaluate(self, individual, backlog, pop, k = 4):\n",
    "        score = 0\n",
    "        if len(backlog):\n",
    "            x = np.array(backlog)\n",
    "            nn = NearestNeighbors(n_neighbors = k, metric = 'euclidean').fit(np.array(backlog))\n",
    "            d, _ = nn.kneighbors([individual])\n",
    "            score += np.mean(d)\n",
    "        \n",
    "        if len(pop):\n",
    "            nn = NearestNeighbors(n_neighbors = k, metric = 'euclidean').fit(np.array(pop))\n",
    "            d, _ = nn.kneighbors([individual])\n",
    "            score += np.mean(d)\n",
    "        \n",
    "        return score\n",
    "    \n",
    "    def evolve(self, generations=20, checkpoint= 5):\n",
    "        self._initialize_population()\n",
    "        n_winners = int(self.population_size * 0.4)\n",
    "        n_parents = self.population_size - n_winners\n",
    "        for epoch in range(generations):\n",
    "            self.calculate_fitness()\n",
    "            scores = [self.evaluate(p.last_features, self.novel_backlog, self.novel_pop) for p in self.population]\n",
    "            sort_fitness = np.argsort(scores)[::-1]\n",
    "            self.population = [self.population[i] for i in sort_fitness]\n",
    "            fittest_individual = self.population[0]\n",
    "            if (epoch+1) % checkpoint == 0:\n",
    "                print('epoch %d, fittest individual %d with accuracy %f'%(epoch+1, sort_fitness[0], \n",
    "                                                                          fittest_individual.fitness))\n",
    "            next_population = [self.population[i] for i in range(n_winners)]\n",
    "            total_fitness = np.sum([np.abs(i.fitness) for i in self.population])\n",
    "            parent_probabilities = [np.abs(i.fitness / total_fitness) for i in self.population]\n",
    "            parents = np.random.choice(self.population, size=n_parents, p=parent_probabilities, replace=False)\n",
    "            \n",
    "            for p in next_population:\n",
    "                if p.last_features is not None:\n",
    "                    self._memorize(self.novel_pop, p.last_features, backlog_maxsize)\n",
    "                    if np.random.randint(0,10) < novelty_search_threshold:\n",
    "                        self._memorize(self.novel_backlog, p.last_features, novelty_log_maxlen)\n",
    "                        \n",
    "            for i in np.arange(0, len(parents), 2):\n",
    "                child1, child2 = self.crossover(parents[i], parents[i+1])\n",
    "                next_population += [self.mutate(child1), self.mutate(child2)]\n",
    "            self.population = next_population\n",
    "            \n",
    "            if np.random.randint(0,10) < novelty_search_threshold:\n",
    "                pop_sorted = sorted(self.population, key=lambda p: p.fitness, reverse=True)\n",
    "                self.generation_backlog.append(pop_sorted[0])\n",
    "                print('novel add fittest, score: %f, backlog size: %d'%(pop_sorted[0].fitness, \n",
    "                                                                        len(self.generation_backlog)))\n",
    "                generation_backlog_temp = self.generation_backlog\n",
    "                if len(self.generation_backlog) > backlog_maxsize:\n",
    "                    generation_backlog_temp = random.sample(generation_backlog, backlog_maxsize)\n",
    "                for p in generation_backlog_temp:\n",
    "                    if p.last_features is not None:\n",
    "                        self._memorize(self.novel_backlog, p.last_features, novelty_log_maxlen)\n",
    "                        \n",
    "        return fittest_individual"
   ]
  },
  {
   "cell_type": "code",
   "execution_count": 13,
   "metadata": {
    "pycharm": {
     "is_executing": false
    }
   },
   "outputs": [],
   "source": [
    "population_size = 100\n",
    "generations = 100\n",
    "mutation_rate = 0.1\n",
    "neural_evolve = NeuroEvolution(population_size, mutation_rate, neuralnetwork,\n",
    "                              window_size, window_size, close, skip, initial_money)"
   ]
  },
  {
   "cell_type": "code",
   "execution_count": 14,
   "metadata": {
    "pycharm": {
     "is_executing": false
    }
   },
   "outputs": [
    {
     "name": "stdout",
     "text": [
      "novel add fittest, score: 6.948699, backlog size: 1\n",
      "novel add fittest, score: 8.315352, backlog size: 2\n",
      "novel add fittest, score: 4.484100, backlog size: 3\n",
      "epoch 5, fittest individual 85 with accuracy -90.903800\n",
      "novel add fittest, score: 9.039500, backlog size: 4\n",
      "epoch 10, fittest individual 59 with accuracy -83.892001\n"
     ],
     "output_type": "stream"
    }
   ],
   "source": [
    "fittest_nets = neural_evolve.evolve(10)"
   ]
  },
  {
   "cell_type": "code",
   "execution_count": 15,
   "metadata": {
    "pycharm": {
     "is_executing": false
    }
   },
   "outputs": [
    {
     "name": "stdout",
     "text": [
      "day 1: buy 1 unit at price 762.130005, total balance 9237.869995\nday 2, sell 1 unit at price 762.020020, investment -0.014431 %, total balance 9999.890015,\nday 3: buy 1 unit at price 782.520020, total balance 9217.369995\nday 4: buy 1 unit at price 790.510010, total balance 8426.859985\nday 5, sell 1 unit at price 785.309998, investment 0.356538 %, total balance 9212.169983,\nday 6, sell 1 unit at price 762.559998, investment -3.535694 %, total balance 9974.729981,\nday 8: buy 1 unit at price 736.080017, total balance 9238.649964\nday 10: buy 1 unit at price 764.479980, total balance 8474.169984\nday 12: buy 1 unit at price 760.539978, total balance 7713.630006\nday 14: buy 1 unit at price 768.270020, total balance 6945.359986\nday 16, sell 1 unit at price 761.679993, investment 3.477879 %, total balance 7707.039979,\nday 18: buy 1 unit at price 770.840027, total balance 6936.199952\nday 20, sell 1 unit at price 747.919983, investment -2.166178 %, total balance 7684.119935,\nday 21: buy 1 unit at price 750.500000, total balance 6933.619935\nday 22, sell 1 unit at price 762.520020, investment 0.260347 %, total balance 7696.139955,\nday 23: buy 1 unit at price 759.109985, total balance 6937.029970\nday 25: buy 1 unit at price 776.419983, total balance 6160.609987\nday 27: buy 1 unit at price 789.270020, total balance 5371.339967\nday 28: buy 1 unit at price 796.099976, total balance 4575.239991\nday 29: buy 1 unit at price 797.070007, total balance 3778.169984\nday 31: buy 1 unit at price 790.799988, total balance 2987.369996\nday 33: buy 1 unit at price 796.419983, total balance 2190.950013\nday 34: buy 1 unit at price 794.559998, total balance 1396.390015\nday 35: buy 1 unit at price 791.260010, total balance 605.130005\nday 36: buy 1 unit at price 789.909973, total balance -184.779968\nday 37, sell 1 unit at price 791.549988, investment 3.030180 %, total balance 606.770020,\nday 40: buy 1 unit at price 771.820007, total balance -165.049987\nday 42: buy 1 unit at price 786.900024, total balance -951.950011\nday 44: buy 1 unit at price 806.150024, total balance -1758.100035\nday 46: buy 1 unit at price 804.789978, total balance -2562.890013\nday 47: buy 1 unit at price 807.909973, total balance -3370.799986\nday 48: buy 1 unit at price 806.359985, total balance -4177.159971\nday 50: buy 1 unit at price 804.609985, total balance -4981.769956\nday 52, sell 1 unit at price 802.174988, investment 4.065041 %, total balance -4179.594968,\nday 55: buy 1 unit at price 823.869995, total balance -5003.464963\nday 56, sell 1 unit at price 835.669983, investment 11.348432 %, total balance -4167.794980,\nday 58: buy 1 unit at price 823.309998, total balance -4991.104978\nday 59: buy 1 unit at price 802.320007, total balance -5793.424985\nday 60, sell 1 unit at price 796.789978, investment 4.963707 %, total balance -4996.635007,\nday 61: buy 1 unit at price 795.695007, total balance -5792.330014\nday 62: buy 1 unit at price 798.530029, total balance -6590.860043\nday 63: buy 1 unit at price 801.489990, total balance -7392.350033\nday 65: buy 1 unit at price 806.969971, total balance -8199.320004\nday 67, sell 1 unit at price 809.559998, investment 4.268310 %, total balance -7389.760006,\nday 70: buy 1 unit at price 820.450012, total balance -8210.210018\nday 71: buy 1 unit at price 818.979980, total balance -9029.189998\nday 72, sell 1 unit at price 824.159973, investment 4.420534 %, total balance -8205.030025,\nday 73: buy 1 unit at price 828.070007, total balance -9033.100032\nday 74: buy 1 unit at price 831.659973, total balance -9864.760005\nday 75: buy 1 unit at price 830.760010, total balance -10695.520015\nday 76: buy 1 unit at price 831.330017, total balance -11526.850032\nday 77: buy 1 unit at price 828.640015, total balance -12355.490047\nday 79: buy 1 unit at price 823.210022, total balance -13178.700069\nday 80: buy 1 unit at price 835.239990, total balance -14013.940059\nday 81: buy 1 unit at price 830.630005, total balance -14844.570064\nday 82, sell 1 unit at price 829.080017, investment 4.142701 %, total balance -14015.490047,\nday 83: buy 1 unit at price 827.780029, total balance -14843.270076\nday 85: buy 1 unit at price 835.369995, total balance -15678.640071\nday 86: buy 1 unit at price 838.679993, total balance -16517.320064\nday 87, sell 1 unit at price 843.250000, investment 5.793719 %, total balance -15674.070064,\nday 88: buy 1 unit at price 845.539978, total balance -16519.610042\nday 89: buy 1 unit at price 845.619995, total balance -17365.230037\nday 90: buy 1 unit at price 847.200012, total balance -18212.430049\nday 91, sell 1 unit at price 848.780029, investment 7.331821 %, total balance -17363.650020,\nday 92: buy 1 unit at price 852.119995, total balance -18215.770015\nday 94: buy 1 unit at price 830.460022, total balance -19046.230037\nday 95, sell 1 unit at price 829.590027, investment 4.164893 %, total balance -18216.640010,\nday 96, sell 1 unit at price 817.580017, investment 2.897203 %, total balance -17399.059993,\nday 98: buy 1 unit at price 819.510010, total balance -18218.570003\nday 100: buy 1 unit at price 831.409973, total balance -19049.979976\nday 101: buy 1 unit at price 831.500000, total balance -19881.479976\nday 102, sell 1 unit at price 829.559998, investment 4.840380 %, total balance -19051.919978,\nday 103: buy 1 unit at price 838.549988, total balance -19890.469966\nday 104: buy 1 unit at price 834.570007, total balance -20725.039973\nday 106: buy 1 unit at price 827.880005, total balance -21552.919978\nday 107: buy 1 unit at price 824.669983, total balance -22377.589961\nday 108: buy 1 unit at price 824.729980, total balance -23202.319941\nday 109: buy 1 unit at price 823.349976, total balance -24025.669917\nday 110: buy 1 unit at price 824.320007, total balance -24849.989924\nday 111: buy 1 unit at price 823.559998, total balance -25673.549922\nday 112, sell 1 unit at price 837.169983, investment 5.982962 %, total balance -24836.379939,\nday 114, sell 1 unit at price 838.210022, investment 8.601748 %, total balance -23998.169917,\nday 115, sell 1 unit at price 841.650024, investment 6.957682 %, total balance -23156.519893,\nday 116: buy 1 unit at price 843.190002, total balance -23999.709895\nday 117: buy 1 unit at price 862.760010, total balance -24862.469905\nday 118: buy 1 unit at price 872.299988, total balance -25734.769893\nday 119, sell 1 unit at price 871.729980, investment 8.134957 %, total balance -24863.039913,\nday 120: buy 1 unit at price 874.250000, total balance -25737.289913\nday 121: buy 1 unit at price 905.960022, total balance -26643.249935\nday 122: buy 1 unit at price 912.570007, total balance -27555.819942\nday 123, sell 1 unit at price 916.440002, investment 13.873188 %, total balance -26639.379940,\nday 124: buy 1 unit at price 927.039978, total balance -27566.419918\nday 126: buy 1 unit at price 927.130005, total balance -28493.549923\nday 127: buy 1 unit at price 934.299988, total balance -29427.849911\nday 128, sell 1 unit at price 932.169983, investment 15.380428 %, total balance -28495.679928,\nday 129: buy 1 unit at price 928.780029, total balance -29424.459957\nday 130: buy 1 unit at price 930.599976, total balance -30355.059933\nday 133, sell 1 unit at price 943.000000, investment 16.945287 %, total balance -29412.059933,\nday 134, sell 1 unit at price 919.619995, investment 14.293883 %, total balance -28492.439938,\nday 135: buy 1 unit at price 930.239990, total balance -29422.679928\nday 136: buy 1 unit at price 934.010010, total balance -30356.689938\nday 138: buy 1 unit at price 948.820007, total balance -31305.509945\nday 139: buy 1 unit at price 954.960022, total balance -32260.469967\nday 140, sell 1 unit at price 969.539978, investment 17.681186 %, total balance -31290.929989,\nday 141: buy 1 unit at price 971.469971, total balance -32262.399960\nday 142: buy 1 unit at price 975.880005, total balance -33238.279965\nday 143: buy 1 unit at price 964.859985, total balance -34203.139950\nday 144, sell 1 unit at price 966.950012, investment 17.446650 %, total balance -33236.189938,\nday 145: buy 1 unit at price 975.599976, total balance -34211.789914\nday 146: buy 1 unit at price 983.679993, total balance -35195.469907\nday 147: buy 1 unit at price 976.570007, total balance -36172.039914\nday 149, sell 1 unit at price 983.409973, investment 22.570790 %, total balance -35188.629941,\nday 150: buy 1 unit at price 949.830017, total balance -36138.459958\nday 151, sell 1 unit at price 942.900024, investment 18.500181 %, total balance -35195.559934,\nday 152: buy 1 unit at price 953.400024, total balance -36148.959958\nday 154: buy 1 unit at price 942.309998, total balance -37091.269956\nday 155, sell 1 unit at price 939.780029, investment 17.688752 %, total balance -36151.489927,\nday 156: buy 1 unit at price 957.369995, total balance -37108.859922\nday 157: buy 1 unit at price 950.630005, total balance -38059.489927\nday 159: buy 1 unit at price 957.090027, total balance -39016.579954\nday 161: buy 1 unit at price 952.270020, total balance -39968.849974\nday 163, sell 1 unit at price 940.489990, investment 17.342699 %, total balance -39028.359984,\nday 164: buy 1 unit at price 917.789978, total balance -39946.149962\nday 165, sell 1 unit at price 908.729980, investment 12.610136 %, total balance -39037.419982,\nday 166: buy 1 unit at price 898.700012, total balance -39936.119994\nday 167, sell 1 unit at price 911.710022, investment 11.123165 %, total balance -39024.409972,\nday 168: buy 1 unit at price 906.690002, total balance -39931.099974\nday 169: buy 1 unit at price 918.590027, total balance -40849.690001\nday 170, sell 1 unit at price 928.799988, investment 13.409364 %, total balance -39920.890013,\nday 171: buy 1 unit at price 930.090027, total balance -40850.980040\nday 172, sell 1 unit at price 943.830017, investment 13.979496 %, total balance -39907.150023,\nday 173: buy 1 unit at price 947.159973, total balance -40854.309996\nday 174, sell 1 unit at price 955.989990, investment 14.949621 %, total balance -39898.320006,\nday 175: buy 1 unit at price 953.419983, total balance -40851.739989\nday 176, sell 1 unit at price 965.400024, investment 16.206848 %, total balance -39886.339965,\nday 177: buy 1 unit at price 970.890015, total balance -40857.229980\nday 178: buy 1 unit at price 968.150024, total balance -41825.380004\nday 179, sell 1 unit at price 972.919983, investment 17.031740 %, total balance -40852.460021,\nday 180: buy 1 unit at price 980.340027, total balance -41832.800048\nday 181: buy 1 unit at price 950.700012, total balance -42783.500060\nday 182, sell 1 unit at price 947.799988, investment 14.380186 %, total balance -41835.700072,\nday 183, sell 1 unit at price 934.090027, investment 13.469224 %, total balance -40901.610045,\nday 185: buy 1 unit at price 930.500000, total balance -41832.110045\nday 187: buy 1 unit at price 930.390015, total balance -42762.500060\nday 188, sell 1 unit at price 923.650024, investment 10.584986 %, total balance -41838.850036,\nday 189: buy 1 unit at price 927.960022, total balance -42766.810058\nday 191, sell 1 unit at price 926.789978, investment 11.576752 %, total balance -41840.020080,\nday 192: buy 1 unit at price 922.900024, total balance -42762.920104\nday 193: buy 1 unit at price 907.239990, total balance -43670.160094\nday 194: buy 1 unit at price 914.390015, total balance -44584.550109\nday 196, sell 1 unit at price 922.219971, investment 11.408821 %, total balance -43662.330138,\nday 197: buy 1 unit at price 926.960022, total balance -44589.290160\nday 198: buy 1 unit at price 910.979980, total balance -45500.270140\nday 200: buy 1 unit at price 906.659973, total balance -46406.930113\n",
      "day 202, sell 1 unit at price 927.000000, investment 10.968793 %, total balance -45479.930113,\nday 204: buy 1 unit at price 915.890015, total balance -46395.820128\nday 206, sell 1 unit at price 921.289978, investment 9.850001 %, total balance -45474.530150,\nday 208, sell 1 unit at price 939.330017, investment 11.092325 %, total balance -44535.200133,\nday 209: buy 1 unit at price 937.340027, total balance -45472.540160\nday 211: buy 1 unit at price 927.809998, total balance -46400.350158\nday 212, sell 1 unit at price 935.950012, investment 10.682105 %, total balance -45464.400146,\nday 213: buy 1 unit at price 926.500000, total balance -46390.900146\nday 215: buy 1 unit at price 932.070007, total balance -47322.970153\nday 216: buy 1 unit at price 935.090027, total balance -48258.060180\nday 218, sell 1 unit at price 920.289978, investment 8.627239 %, total balance -47337.770202,\nday 219: buy 1 unit at price 915.000000, total balance -48252.770202\nday 220: buy 1 unit at price 921.809998, total balance -49174.580200\nday 221: buy 1 unit at price 931.580017, total balance -50106.160217\nday 223, sell 1 unit at price 928.530029, investment 8.967051 %, total balance -49177.630188,\nday 224: buy 1 unit at price 920.969971, total balance -50098.600159\nday 225: buy 1 unit at price 924.859985, total balance -51023.460144\nday 226: buy 1 unit at price 944.489990, total balance -51967.950134\nday 229: buy 1 unit at price 953.270020, total balance -52921.220154\nday 230: buy 1 unit at price 957.789978, total balance -53879.010132\nday 231: buy 1 unit at price 951.679993, total balance -54830.690125\nday 232: buy 1 unit at price 969.960022, total balance -55800.650147\nday 233: buy 1 unit at price 978.890015, total balance -56779.540162\nday 235: buy 1 unit at price 972.599976, total balance -57752.140138\nday 237: buy 1 unit at price 987.830017, total balance -58739.970155\nday 238: buy 1 unit at price 989.679993, total balance -59729.650148\nday 239, sell 1 unit at price 992.000000, investment 19.451867 %, total balance -58737.650148,\nday 240: buy 1 unit at price 992.179993, total balance -59729.830141\nday 242: buy 1 unit at price 984.450012, total balance -60714.280153\nday 243, sell 1 unit at price 988.200012, investment 20.584252 %, total balance -59726.080141,\nday 244: buy 1 unit at price 968.450012, total balance -60694.530153\nday 246: buy 1 unit at price 973.330017, total balance -61667.860170\nday 247: buy 1 unit at price 972.559998, total balance -62640.420168\nday 248: buy 1 unit at price 1019.270020, total balance -63659.690188\nday 249: buy 1 unit at price 1017.109985, total balance -64676.800173\nday 250, sell 1 unit at price 1016.640015, investment 22.279026 %, total balance -63660.160158,\n"
     ],
     "output_type": "stream"
    }
   ],
   "source": [
    "states_buy, states_sell, total_gains, invest = neural_evolve.buy(fittest_nets)"
   ]
  },
  {
   "cell_type": "code",
   "execution_count": 16,
   "metadata": {
    "pycharm": {
     "is_executing": false
    }
   },
   "outputs": [
    {
     "data": {
      "text/plain": "<Figure size 1080x360 with 1 Axes>",
      "image/png": "[encoded data removed]"
     },
     "metadata": {},
     "output_type": "display_data"
    }
   ],
   "source": [
    "fig = plt.figure(figsize = (15,5))\n",
    "plt.plot(close, color='r', lw=2.)\n",
    "plt.plot(close, '^', markersize=10, color='m', label = 'buying signal', markevery = states_buy)\n",
    "plt.plot(close, 'v', markersize=10, color='k', label = 'selling signal', markevery = states_sell)\n",
    "plt.title('total gains %f, total investment %f%%'%(total_gains, invest))\n",
    "plt.legend()\n",
    "plt.show()"
   ]
  },
  {
   "cell_type": "code",
   "execution_count": 16,
   "metadata": {
    "pycharm": {
     "is_executing": false
    }
   },
   "outputs": [],
   "source": []
  }
 ],
 "metadata": {
  "kernelspec": {
   "display_name": "Python 3",
   "language": "python",
   "name": "python3"
  },
  "language_info": {
   "codemirror_mode": {
    "name": "ipython",
    "version": 3
   },
   "file_extension": ".py",
   "mimetype": "text/x-python",
   "name": "python",
   "nbconvert_exporter": "python",
   "pygments_lexer": "ipython3",
   "version": "3.6.8"
  },
  "pycharm": {
   "stem_cell": {
    "cell_type": "raw",
    "source": [],
    "metadata": {
     "collapsed": false
    }
   }
  }
 },
 "nbformat": 4,
 "nbformat_minor": 2
}